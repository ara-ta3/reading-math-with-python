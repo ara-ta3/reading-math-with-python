{
 "cells": [
  {
   "cell_type": "markdown",
   "metadata": {},
   "source": [
    "# 第3章データを統計量で記述する"
   ]
  },
  {
   "cell_type": "code",
   "execution_count": 1,
   "metadata": {
    "collapsed": true
   },
   "outputs": [],
   "source": [
    "%matplotlib inline"
   ]
  },
  {
   "cell_type": "code",
   "execution_count": 4,
   "metadata": {
    "collapsed": false
   },
   "outputs": [
    {
     "name": "stdout",
     "output_type": "stream",
     "text": [
      "Mean donation over the last 12 days is 477.75\n"
     ]
    }
   ],
   "source": [
    "# 平均値 mean\n",
    "def calc_mean(numbers):\n",
    "    s = sum(numbers)\n",
    "    N = len(numbers)\n",
    "    return s / N\n",
    "\n",
    "if __name__ == '__main__':\n",
    "    donations = [100, 60, 70, 900, 100, 200, 500, 500, 503, 600, 1000, 1200]\n",
    "    mean = calc_mean(donations)\n",
    "    N = len(donations)\n",
    "    print('Mean donation over the last {0} days is {1}'.format(N, mean))"
   ]
  },
  {
   "cell_type": "code",
   "execution_count": 5,
   "metadata": {
    "collapsed": false
   },
   "outputs": [
    {
     "name": "stdout",
     "output_type": "stream",
     "text": [
      "Median donation over the last 12 days is 500.0\n"
     ]
    }
   ],
   "source": [
    "# 中央値 median\n",
    "\n",
    "def calc_median(numbers):\n",
    "    N = len(numbers)\n",
    "    numbers = sorted(numbers)\n",
    "    \n",
    "    if N % 2 ==0:\n",
    "        m1 = int(N / 2) - 1\n",
    "        m2 = m1 + 1\n",
    "        return (numbers[m1] + numbers[m2]) / 2\n",
    "    else :\n",
    "        m = (N+1) / 2 - 1\n",
    "        return numbers[m]\n",
    "\n",
    "if __name__ == '__main__':\n",
    "    donations = [100, 60, 70, 900, 100, 200, 500, 500, 503, 600, 1000, 1200]\n",
    "    median = calc_median(donations)\n",
    "    N = len(donations)\n",
    "    print('Median donation over the last {0} days is {1}'.format(N, median))"
   ]
  },
  {
   "cell_type": "code",
   "execution_count": 8,
   "metadata": {
    "collapsed": false
   },
   "outputs": [
    {
     "data": {
      "text/plain": [
       "[(4, 2), (1, 1), (2, 1), (3, 1)]"
      ]
     },
     "execution_count": 8,
     "metadata": {},
     "output_type": "execute_result"
    }
   ],
   "source": [
    "# 最頻値 mode\n",
    "\n",
    "simplelist = [4,2,1,3,4]\n",
    "from collections import Counter\n",
    "c = Counter(simplelist)\n",
    "c.most_common()"
   ]
  },
  {
   "cell_type": "code",
   "execution_count": 10,
   "metadata": {
    "collapsed": false
   },
   "outputs": [
    {
     "data": {
      "text/plain": [
       "[(4, 2)]"
      ]
     },
     "execution_count": 10,
     "metadata": {},
     "output_type": "execute_result"
    }
   ],
   "source": [
    "simplelist = [4,2,1,3,4]\n",
    "from collections import Counter\n",
    "c = Counter(simplelist)\n",
    "c.most_common(1)"
   ]
  },
  {
   "cell_type": "code",
   "execution_count": 6,
   "metadata": {
    "collapsed": false
   },
   "outputs": [
    {
     "name": "stdout",
     "output_type": "stream",
     "text": [
      "The mode of the list of numbers is: 9\n"
     ]
    }
   ],
   "source": [
    "from collections import Counter\n",
    "\n",
    "def calc_mode(numbers):\n",
    "    c = Counter(numbers)\n",
    "    mode = c.most_common(1)\n",
    "    return mode[0][0]\n",
    "\n",
    "if __name__ == '__main__':\n",
    "    scores = [7,8,9,2,10,9,9,9,9,4,5,6,1,5,6,7,8,6,1,10]\n",
    "    mode = calc_mode(scores)\n",
    "    print('The mode of the list of numbers is: {0}'.format(mode))"
   ]
  },
  {
   "cell_type": "code",
   "execution_count": 7,
   "metadata": {
    "collapsed": false
   },
   "outputs": [
    {
     "name": "stdout",
     "output_type": "stream",
     "text": [
      "Number\tFrequency\n",
      "1\t2\n",
      "2\t1\n",
      "4\t1\n",
      "5\t2\n",
      "6\t3\n",
      "7\t2\n",
      "8\t2\n",
      "9\t5\n",
      "10\t2\n"
     ]
    }
   ],
   "source": [
    "# 度数分布表\n",
    "\n",
    "from collections import Counter\n",
    "\n",
    "def calc_frequency(numbers):\n",
    "    c = Counter(numbers)\n",
    "    numbers_freq = c.most_common()\n",
    "    numbers_freq = sorted(numbers_freq)\n",
    "    return numbers_freq\n",
    "\n",
    "if __name__ == '__main__':\n",
    "    scores = [7,8,9,2,10,9,9,9,9,4,5,6,1,5,6,7,8,6,1,10]\n",
    "    freq = calc_frequency(scores)\n",
    "    print('Number\\tFrequency') \n",
    "    for number in freq:\n",
    "        print('{0}\\t{1}'.format(number[0], number[1]))\n"
   ]
  },
  {
   "cell_type": "code",
   "execution_count": 8,
   "metadata": {
    "collapsed": false
   },
   "outputs": [
    {
     "name": "stdout",
     "output_type": "stream",
     "text": [
      "Lowest: 60 Highest: 1200 Range: 1140\n"
     ]
    }
   ],
   "source": [
    "# 散らばり dispersion\n",
    "\n",
    "def find_range(numbers):\n",
    "    lowest = min(numbers)\n",
    "    highest = max(numbers)\n",
    "    r = highest - lowest\n",
    "    return lowest, highest, r\n",
    "\n",
    "if __name__ == '__main__':\n",
    "    donations = [100, 60, 70, 900, 100, 200, 500, 500, 503, 600, 1000, 1200]\n",
    "    lowest, highest, r = find_range(donations)\n",
    "    print('Lowest: {0} Highest: {1} Range: {2}'.format(lowest, highest, r))\n"
   ]
  },
  {
   "cell_type": "code",
   "execution_count": 9,
   "metadata": {
    "collapsed": false
   },
   "outputs": [
    {
     "name": "stdout",
     "output_type": "stream",
     "text": [
      "The variance of the list of numbers is 141047.35416666666\n",
      "The standard deviation of the list of numbers is 375.5627166887931\n"
     ]
    }
   ],
   "source": [
    "# 分散 variance と 標準偏差 standard deviation\n",
    "\n",
    "def calc_variance(numbers):\n",
    "    mean = calc_mean(numbers)\n",
    "    N = len(numbers)\n",
    "    return sum(map(lambda x: (x - mean) ** 2, numbers)) / N\n",
    "    \n",
    "    \n",
    "if __name__ == '__main__':\n",
    "    donations = [100, 60, 70, 900, 100, 200, 500, 500, 503, 600, 1000, 1200]\n",
    "    v = calc_variance(donations)\n",
    "    print('The variance of the list of numbers is {0}'.format(v))\n",
    "    std = v**0.5\n",
    "    print('The standard deviation of the list of numbers is {0}'.format(std))"
   ]
  },
  {
   "cell_type": "code",
   "execution_count": 10,
   "metadata": {
    "collapsed": false
   },
   "outputs": [
    {
     "name": "stdout",
     "output_type": "stream",
     "text": [
      "1 4\n",
      "2 5\n",
      "3 6\n"
     ]
    }
   ],
   "source": [
    "# ピアソンの相関係数\n",
    "\n",
    "simple_list1 = [1,2,3]\n",
    "simple_list2 = [4,5,6]\n",
    "for x, y in zip(simple_list1, simple_list2):\n",
    "    print(x,y)"
   ]
  },
  {
   "cell_type": "code",
   "execution_count": 11,
   "metadata": {
    "collapsed": false
   },
   "outputs": [],
   "source": [
    "def calc_correlation(xs, ys):\n",
    "    n = min(len(xs), len(ys))\n",
    "    numer = sum(map(lambda x, y: x*y, xs, ys)) * n - sum(xs) * sum(ys)\n",
    "    denom = ((n * sum(map(lambda x: x**2, xs)) - sum(xs) ** 2) * (n * sum(map(lambda y: y**2, ys)) - sum(ys) ** 2)) ** 0.5\n",
    "    return numer / denom\n",
    "\n",
    "if __name__ == '__main__':\n",
    "    simple_list1 = [1,2,3]\n",
    "    simple_list2 = [4,5,6]\n",
    "    calc_correlation(simple_list1, simple_list2)\n",
    "    "
   ]
  },
  {
   "cell_type": "code",
   "execution_count": 12,
   "metadata": {
    "collapsed": false
   },
   "outputs": [],
   "source": [
    "def xxx(xs, ys):\n",
    "    return list(map(lambda x, y: x * y, xs, ys))\n",
    "\n",
    "if __name__ == '__main__':\n",
    "    simple_list1 = [1,2,3]\n",
    "    simple_list2 = [4,5,6]\n",
    "    xxx(simple_list1, simple_list1)"
   ]
  },
  {
   "cell_type": "code",
   "execution_count": 23,
   "metadata": {
    "collapsed": false
   },
   "outputs": [
    {
     "data": {
      "image/png": "[encoded data removed]",
      "text/plain": [
       "<matplotlib.figure.Figure at 0x109c1d240>"
      ]
     },
     "metadata": {},
     "output_type": "display_data"
    }
   ],
   "source": [
    "x = [1,2,3,4]\n",
    "y = [2,4,6,8]\n",
    "\n",
    "import matplotlib.pyplot as plt\n",
    "plt.scatter(x, y)\n",
    "plt.show()"
   ]
  },
  {
   "cell_type": "code",
   "execution_count": 13,
   "metadata": {
    "collapsed": false
   },
   "outputs": [
    {
     "name": "stdout",
     "output_type": "stream",
     "text": [
      "Sum of the numbers: 5733.0\n"
     ]
    }
   ],
   "source": [
    "def sum_data(filename):\n",
    "    s = 0\n",
    "    with open(filename) as f:\n",
    "        for line in f:\n",
    "            s = s + float(line)\n",
    "        print('Sum of the numbers: {0}'.format(s))\n",
    "        \n",
    "if __name__ == '__main__':\n",
    "    sum_data(\"chap03/mydata.txt\")"
   ]
  },
  {
   "cell_type": "code",
   "execution_count": 14,
   "metadata": {
    "collapsed": false
   },
   "outputs": [
    {
     "data": {
      "image/png": "[encoded data removed]",
      "text/plain": [
       "<matplotlib.figure.Figure at 0x10a7dccf8>"
      ]
     },
     "metadata": {},
     "output_type": "display_data"
    }
   ],
   "source": [
    "import csv\n",
    "import matplotlib.pyplot as plt\n",
    "\n",
    "def scatter_plot(x, y):\n",
    "    plt.scatter(x, y)\n",
    "    plt.xlabel('Number')\n",
    "    plt.ylabel('Square')\n",
    "    plt.show()\n",
    "\n",
    "def read_csv(filename):\n",
    "    numbers = []\n",
    "    squared = []\n",
    "    with open(filename) as f:\n",
    "        reader = csv.reader(f)\n",
    "        next(reader)\n",
    "        for row in reader:\n",
    "            numbers.append(int(row[0]))\n",
    "            squared.append(int(row[1]))\n",
    "    return numbers, squared\n",
    "\n",
    "\n",
    "if __name__ == '__main__':\n",
    "    numbers, squared = read_csv(\"chap03/numbers.csv\")\n",
    "    scatter_plot(numbers, squared)"
   ]
  },
  {
   "cell_type": "markdown",
   "metadata": {},
   "source": [
    "### プログラミングチャレンジ"
   ]
  },
  {
   "cell_type": "code",
   "execution_count": 15,
   "metadata": {
    "collapsed": false
   },
   "outputs": [
    {
     "ename": "Exception",
     "evalue": "length of each list in arguments must be the same. first is '0', second is '1'",
     "output_type": "error",
     "traceback": [
      "\u001b[0;31m---------------------------------------------------------------------------\u001b[0m",
      "\u001b[0;31mException\u001b[0m                                 Traceback (most recent call last)",
      "\u001b[0;32m<ipython-input-15-549636cef211>\u001b[0m in \u001b[0;36m<module>\u001b[0;34m()\u001b[0m\n\u001b[1;32m     12\u001b[0m \u001b[0;34m\u001b[0m\u001b[0m\n\u001b[1;32m     13\u001b[0m \u001b[0;32mif\u001b[0m \u001b[0m__name__\u001b[0m \u001b[0;34m==\u001b[0m \u001b[0;34m'__main__'\u001b[0m\u001b[0;34m:\u001b[0m\u001b[0;34m\u001b[0m\u001b[0m\n\u001b[0;32m---> 14\u001b[0;31m     \u001b[0mcalc_correlation\u001b[0m\u001b[0;34m(\u001b[0m\u001b[0;34m[\u001b[0m\u001b[0;34m]\u001b[0m\u001b[0;34m,\u001b[0m \u001b[0;34m[\u001b[0m\u001b[0;36m1\u001b[0m\u001b[0;34m]\u001b[0m\u001b[0;34m)\u001b[0m\u001b[0;34m\u001b[0m\u001b[0m\n\u001b[0m",
      "\u001b[0;32m<ipython-input-15-549636cef211>\u001b[0m in \u001b[0;36mcalc_correlation\u001b[0;34m(xs, ys)\u001b[0m\n\u001b[1;32m      4\u001b[0m     \u001b[0mnys\u001b[0m \u001b[0;34m=\u001b[0m \u001b[0mlen\u001b[0m\u001b[0;34m(\u001b[0m\u001b[0mys\u001b[0m\u001b[0;34m)\u001b[0m\u001b[0;34m\u001b[0m\u001b[0m\n\u001b[1;32m      5\u001b[0m     \u001b[0;32mif\u001b[0m \u001b[0mnxs\u001b[0m \u001b[0;34m!=\u001b[0m \u001b[0mnys\u001b[0m\u001b[0;34m:\u001b[0m\u001b[0;34m\u001b[0m\u001b[0m\n\u001b[0;32m----> 6\u001b[0;31m         \u001b[0;32mraise\u001b[0m \u001b[0mException\u001b[0m\u001b[0;34m(\u001b[0m\u001b[0;34m\"length of each list in arguments must be the same. first is '{0}', second is '{1}'\"\u001b[0m\u001b[0;34m.\u001b[0m\u001b[0mformat\u001b[0m\u001b[0;34m(\u001b[0m\u001b[0mnxs\u001b[0m\u001b[0;34m,\u001b[0m \u001b[0mnys\u001b[0m\u001b[0;34m)\u001b[0m\u001b[0;34m)\u001b[0m\u001b[0;34m\u001b[0m\u001b[0m\n\u001b[0m\u001b[1;32m      7\u001b[0m     \u001b[0mn\u001b[0m \u001b[0;34m=\u001b[0m \u001b[0mnxs\u001b[0m\u001b[0;34m\u001b[0m\u001b[0m\n\u001b[1;32m      8\u001b[0m     \u001b[0mnumer\u001b[0m \u001b[0;34m=\u001b[0m \u001b[0msum\u001b[0m\u001b[0;34m(\u001b[0m\u001b[0mmap\u001b[0m\u001b[0;34m(\u001b[0m\u001b[0;32mlambda\u001b[0m \u001b[0mx\u001b[0m\u001b[0;34m,\u001b[0m \u001b[0my\u001b[0m\u001b[0;34m:\u001b[0m \u001b[0mx\u001b[0m\u001b[0;34m*\u001b[0m\u001b[0my\u001b[0m\u001b[0;34m,\u001b[0m \u001b[0mxs\u001b[0m\u001b[0;34m,\u001b[0m \u001b[0mys\u001b[0m\u001b[0;34m)\u001b[0m\u001b[0;34m)\u001b[0m \u001b[0;34m*\u001b[0m \u001b[0mn\u001b[0m \u001b[0;34m-\u001b[0m \u001b[0msum\u001b[0m\u001b[0;34m(\u001b[0m\u001b[0mxs\u001b[0m\u001b[0;34m)\u001b[0m \u001b[0;34m*\u001b[0m \u001b[0msum\u001b[0m\u001b[0;34m(\u001b[0m\u001b[0mys\u001b[0m\u001b[0;34m)\u001b[0m\u001b[0;34m\u001b[0m\u001b[0m\n",
      "\u001b[0;31mException\u001b[0m: length of each list in arguments must be the same. first is '0', second is '1'"
     ]
    }
   ],
   "source": [
    "# 3.1\n",
    "def calc_correlation(xs, ys):\n",
    "    nxs = len(xs)\n",
    "    nys = len(ys)\n",
    "    if nxs != nys:\n",
    "        raise Exception(\"length of each list in arguments must be the same. first is '{0}', second is '{1}'\".format(nxs, nys))\n",
    "    n = nxs\n",
    "    numer = sum(map(lambda x, y: x*y, xs, ys)) * n - sum(xs) * sum(ys)\n",
    "    denom = ((n * sum(map(lambda x: x**2, xs)) - sum(xs) ** 2) * (n * sum(map(lambda y: y**2, ys)) - sum(ys) ** 2)) ** 0.5\n",
    "    return numer / denom\n",
    "\n",
    "\n",
    "if __name__ == '__main__':\n",
    "    calc_correlation([], [1])"
   ]
  },
  {
   "cell_type": "code",
   "execution_count": 33,
   "metadata": {
    "collapsed": true
   },
   "outputs": [],
   "source": [
    "# 3.2 関数電卓の実装 (だるいのでパス)\n"
   ]
  },
  {
   "cell_type": "code",
   "execution_count": 3,
   "metadata": {
    "collapsed": false
   },
   "outputs": [
    {
     "ename": "NameError",
     "evalue": "name 'calc_mean' is not defined",
     "output_type": "error",
     "traceback": [
      "\u001b[0;31m---------------------------------------------------------------------------\u001b[0m",
      "\u001b[0;31mNameError\u001b[0m                                 Traceback (most recent call last)",
      "\u001b[0;32m<ipython-input-3-80dcf244e005>\u001b[0m in \u001b[0;36m<module>\u001b[0;34m()\u001b[0m\n\u001b[1;32m     29\u001b[0m     \u001b[0mdates\u001b[0m\u001b[0;34m,\u001b[0m \u001b[0mvalues\u001b[0m \u001b[0;34m=\u001b[0m \u001b[0mread_csv\u001b[0m\u001b[0;34m(\u001b[0m\u001b[0;34m\"chap03/WORLDBANK-USA_SP_POP_TOTL.csv\"\u001b[0m\u001b[0;34m)\u001b[0m\u001b[0;34m\u001b[0m\u001b[0m\n\u001b[1;32m     30\u001b[0m     \u001b[0myears\u001b[0m\u001b[0;34m,\u001b[0m \u001b[0mdiffs\u001b[0m \u001b[0;34m=\u001b[0m \u001b[0mcalc_diffs\u001b[0m\u001b[0;34m(\u001b[0m\u001b[0mdates\u001b[0m\u001b[0;34m,\u001b[0m \u001b[0mvalues\u001b[0m\u001b[0;34m)\u001b[0m\u001b[0;34m\u001b[0m\u001b[0m\n\u001b[0;32m---> 31\u001b[0;31m     \u001b[0mmean\u001b[0m \u001b[0;34m=\u001b[0m \u001b[0mcalc_mean\u001b[0m\u001b[0;34m(\u001b[0m\u001b[0mdiffs\u001b[0m\u001b[0;34m)\u001b[0m\u001b[0;34m\u001b[0m\u001b[0m\n\u001b[0m\u001b[1;32m     32\u001b[0m     \u001b[0mmedian\u001b[0m \u001b[0;34m=\u001b[0m \u001b[0mcalc_median\u001b[0m\u001b[0;34m(\u001b[0m\u001b[0mdiffs\u001b[0m\u001b[0;34m)\u001b[0m\u001b[0;34m\u001b[0m\u001b[0m\n\u001b[1;32m     33\u001b[0m     \u001b[0mv\u001b[0m \u001b[0;34m=\u001b[0m \u001b[0mcalc_variance\u001b[0m\u001b[0;34m(\u001b[0m\u001b[0mvalues\u001b[0m\u001b[0;34m)\u001b[0m\u001b[0;34m\u001b[0m\u001b[0m\n",
      "\u001b[0;31mNameError\u001b[0m: name 'calc_mean' is not defined"
     ]
    }
   ],
   "source": [
    "# 3.3 他のCSVデータで遊ぶ\n",
    "import csv\n",
    "import datetime\n",
    "import matplotlib.pyplot as plt\n",
    "\n",
    "def read_csv(filename):\n",
    "    values = []\n",
    "    dates = []\n",
    "    with open(filename) as f:\n",
    "        reader = csv.reader(f)\n",
    "        next(reader)\n",
    "        for row in reader:\n",
    "            dates.append(datetime.datetime.strptime(row[0], \"%Y-%m-%d\"))\n",
    "            values.append(float(row[1]))\n",
    "    return dates, values\n",
    "\n",
    "def calc_diffs(dates, values):\n",
    "    years = []\n",
    "    diffs = []\n",
    "    idx = 0\n",
    "    while idx < len(dates) - 1:\n",
    "        years.append(dates[idx].year)\n",
    "        diffs.append(values[idx] - values[idx + 1])\n",
    "        idx += 1\n",
    "    return years, diffs\n",
    "\n",
    "\n",
    "if __name__ == '__main__':\n",
    "    dates, values = read_csv(\"chap03/WORLDBANK-USA_SP_POP_TOTL.csv\")\n",
    "    years, diffs = calc_diffs(dates, values)\n",
    "    mean = calc_mean(diffs)\n",
    "    median = calc_median(diffs)\n",
    "    v = calc_variance(values)\n",
    "    std = v ** 0.5\n",
    "    correlation = calc_correlation(years, diffs)\n",
    "    print('Mean of diff {0}'.format(mean))\n",
    "    print('Median of diffs {0}'.format(median))\n",
    "    print('Variance of diffs {0}, standard deviation of diffs {1}'.format(v, std))\n",
    "    print('Correlation of diffs and years {0}'.format(correlation))\n",
    "\n",
    "    plt.scatter(years, diffs)\n",
    "    plt.xlabel('Year')\n",
    "    plt.ylabel('Diff')\n",
    "    plt.show()"
   ]
  },
  {
   "cell_type": "code",
   "execution_count": 53,
   "metadata": {
    "collapsed": true
   },
   "outputs": [],
   "source": [
    "# 微妙に正の相関がある？くらいな感じかな"
   ]
  },
  {
   "cell_type": "code",
   "execution_count": 2,
   "metadata": {
    "collapsed": false
   },
   "outputs": [
    {
     "name": "stdout",
     "output_type": "stream",
     "text": [
      "1060.0000000000002\n",
      "7\n",
      "3.5\n"
     ]
    }
   ],
   "source": [
    "# 3.4 百分位を求める\n",
    "\n",
    "def read_data(filename):\n",
    "    data = []\n",
    "    with open(filename) as f:\n",
    "        for line in f:\n",
    "            data.append(float(line))\n",
    "    return data\n",
    "\n",
    "\n",
    "def calc_percentile(numbers, p):\n",
    "    sorted_numbers = sorted(numbers)\n",
    "    n = len(sorted_numbers)\n",
    "    i = n * p / 100 + 0.5\n",
    "    if int(i) == i:\n",
    "        return sorted_numbers[int(i) - 1]\n",
    "    else:\n",
    "        integer_part = int(i)\n",
    "        fractional_part = i - integer_part\n",
    "        return (1 - fractional_part) * sorted_numbers[integer_part - 1] + fractional_part * sorted_numbers[integer_part]\n",
    "if __name__ == '__main__':\n",
    "    numbers = read_data(\"chap03/mydata.txt\")\n",
    "    print(calc_percentile(numbers, 90))\n",
    "    some_data = [5, 1, 9, 3, 14, 9, 7]\n",
    "    print(calc_percentile(some_data, 50))\n",
    "    print(calc_percentile(some_data, 25))\n"
   ]
  },
  {
   "cell_type": "code",
   "execution_count": 68,
   "metadata": {
    "collapsed": true
   },
   "outputs": [],
   "source": [
    "# 3.5 はパス"
   ]
  },
  {
   "cell_type": "code",
   "execution_count": null,
   "metadata": {
    "collapsed": true
   },
   "outputs": [],
   "source": []
  }
 ],
 "metadata": {
  "kernelspec": {
   "display_name": "Python 3",
   "language": "python",
   "name": "python3"
  },
  "language_info": {
   "codemirror_mode": {
    "name": "ipython",
    "version": 3
   },
   "file_extension": ".py",
   "mimetype": "text/x-python",
   "name": "python",
   "nbconvert_exporter": "python",
   "pygments_lexer": "ipython3",
   "version": "3.5.1"
  }
 },
 "nbformat": 4,
 "nbformat_minor": 0
}
