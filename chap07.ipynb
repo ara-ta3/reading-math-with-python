{
 "cells": [
  {
   "cell_type": "markdown",
   "metadata": {},
   "source": [
    "# 7章 初等解析問題を解く"
   ]
  },
  {
   "cell_type": "code",
   "execution_count": 1,
   "metadata": {
    "collapsed": false
   },
   "outputs": [
    {
     "data": {
      "text/plain": [
       "1.0"
      ]
     },
     "execution_count": 1,
     "metadata": {},
     "output_type": "execute_result"
    }
   ],
   "source": [
    "# 三角関数\n",
    "\n",
    "import math\n",
    "math.sin(math.pi / 2)"
   ]
  },
  {
   "cell_type": "code",
   "execution_count": 3,
   "metadata": {
    "collapsed": false
   },
   "outputs": [
    {
     "data": {
      "text/plain": [
       "1.00000000000000"
      ]
     },
     "execution_count": 3,
     "metadata": {},
     "output_type": "execute_result"
    }
   ],
   "source": [
    "import sympy, math\n",
    "\n",
    "sympy.sin(math.pi / 2)"
   ]
  },
  {
   "cell_type": "code",
   "execution_count": 5,
   "metadata": {
    "collapsed": false
   },
   "outputs": [
    {
     "data": {
      "text/plain": [
       "2*sin(theta)"
      ]
     },
     "execution_count": 5,
     "metadata": {},
     "output_type": "execute_result"
    }
   ],
   "source": [
    "import sympy, math\n",
    "from sympy import Symbol\n",
    "\n",
    "theta = Symbol(\"theta\")\n",
    "# math.sin(theta) + math.sin(theta) # => エラー\n",
    "\n",
    "sympy.sin(theta) + sympy.sin(theta)"
   ]
  },
  {
   "cell_type": "code",
   "execution_count": 6,
   "metadata": {
    "collapsed": false
   },
   "outputs": [
    {
     "data": {
      "text/plain": [
       "[u*sin(theta)/g]"
      ]
     },
     "execution_count": 6,
     "metadata": {},
     "output_type": "execute_result"
    }
   ],
   "source": [
    "from sympy import sin, solve, Symbol\n",
    "\n",
    "u = Symbol(\"u\")\n",
    "t = Symbol(\"t\")\n",
    "g = Symbol(\"g\")\n",
    "theta = Symbol(\"theta\")\n",
    "solve(u * sin(theta) - g * t, t)"
   ]
  },
  {
   "cell_type": "code",
   "execution_count": 9,
   "metadata": {
    "collapsed": false
   },
   "outputs": [
    {
     "name": "stdout",
     "output_type": "stream",
     "text": [
      "positive\n"
     ]
    }
   ],
   "source": [
    "# 符号\n",
    "\n",
    "x = Symbol(\"x\", positive = True)\n",
    "# 他にもreal, integer, complex, imaginaryを指定できる\n",
    "# 仮定と呼ばれるらしい\n",
    "\n",
    "if (x + 5) > 0:\n",
    "    print(\"positive\")\n",
    "else :\n",
    "    print(\"negative\")"
   ]
  },
  {
   "cell_type": "code",
   "execution_count": 13,
   "metadata": {
    "collapsed": false
   },
   "outputs": [
    {
     "data": {
      "text/plain": [
       "0"
      ]
     },
     "execution_count": 13,
     "metadata": {},
     "output_type": "execute_result"
    }
   ],
   "source": [
    "# 極限\n",
    "\n",
    "from sympy import Limit, Symbol, S\n",
    "\n",
    "x = Symbol(\"x\")\n",
    "l = Limit(1/x, x, S.Infinity)\n",
    "l.doit()"
   ]
  },
  {
   "cell_type": "code",
   "execution_count": 14,
   "metadata": {
    "collapsed": false
   },
   "outputs": [
    {
     "data": {
      "text/plain": [
       "E"
      ]
     },
     "execution_count": 14,
     "metadata": {},
     "output_type": "execute_result"
    }
   ],
   "source": [
    "# 連続複利\n",
    "\n",
    "from sympy import Limit, Symbol, S\n",
    "n = Symbol(\"n\")\n",
    "Limit((1 + 1 /n) ** n, n, S.Infinity).doit()"
   ]
  },
  {
   "cell_type": "code",
   "execution_count": 15,
   "metadata": {
    "collapsed": false
   },
   "outputs": [
    {
     "data": {
      "text/plain": [
       "p*exp(r*t)"
      ]
     },
     "execution_count": 15,
     "metadata": {},
     "output_type": "execute_result"
    }
   ],
   "source": [
    "from sympy import Limit, Symbol, S\n",
    "n = Symbol(\"n\")\n",
    "p = Symbol(\"p\", positive = True)\n",
    "r = Symbol(\"r\", positive = True)\n",
    "t = Symbol(\"t\", positive = True)\n",
    "\n",
    "Limit(p * (1 + r /n) ** (n * t), n, S.Infinity).doit()"
   ]
  },
  {
   "cell_type": "code",
   "execution_count": 23,
   "metadata": {
    "collapsed": false
   },
   "outputs": [
    {
     "name": "stdout",
     "output_type": "stream",
     "text": [
      "   2          \n",
      "5⋅t  + 2⋅t + 8\n",
      "           2              2\n",
      "2⋅dt - 5⋅t₁  + 5⋅(dt + t₁) \n",
      "───────────────────────────\n",
      "             dt            \n"
     ]
    },
    {
     "data": {
      "image/png": "[encoded data removed]",
      "text/latex": [
       "$$10 t_{1} + 2$$"
      ],
      "text/plain": [
       "10⋅t₁ + 2"
      ]
     },
     "execution_count": 23,
     "metadata": {},
     "output_type": "execute_result"
    }
   ],
   "source": [
    "# 瞬間変化率\n",
    "\n",
    "from sympy import Symbol, Limit, init_printing, pprint\n",
    "\n",
    "init_printing()\n",
    "\n",
    "t = Symbol(\"t\")\n",
    "st = 5 *t ** 2 + 2 * t +8\n",
    "\n",
    "t1 = Symbol(\"t1\")\n",
    "dt = Symbol(\"dt\")\n",
    "st1 = st.subs({t:t1})\n",
    "dst1= st.subs({t: t1 + dt})\n",
    "\n",
    "\n",
    "pprint(st)\n",
    "f = (dst1 - st1) / (dt)\n",
    "pprint(f)\n",
    "Limit(f, dt, 0).doit()"
   ]
  },
  {
   "cell_type": "code",
   "execution_count": 29,
   "metadata": {
    "collapsed": false
   },
   "outputs": [
    {
     "data": {
      "image/png": "[encoded data removed]",
      "text/latex": [
       "$$10 t_{1} + 2$$"
      ],
      "text/plain": [
       "10⋅t₁ + 2"
      ]
     },
     "execution_count": 29,
     "metadata": {},
     "output_type": "execute_result"
    }
   ],
   "source": [
    "# 微分\n",
    "\n",
    "from sympy import Symbol, Derivative\n",
    "\n",
    "t = Symbol(\"t\")\n",
    "st = 5 *t ** 2 + 2 * t +8\n",
    "\n",
    "d = Derivative(st, t)\n",
    "\n",
    "t1 = Symbol(\"t1\")\n",
    "d.doit().subs({t:t1})"
   ]
  },
  {
   "cell_type": "code",
   "execution_count": 33,
   "metadata": {
    "collapsed": true
   },
   "outputs": [],
   "source": [
    "%matplotlib inline"
   ]
  },
  {
   "cell_type": "code",
   "execution_count": 47,
   "metadata": {
    "collapsed": false
   },
   "outputs": [
    {
     "data": {
      "image/png": "[encoded data removed]",
      "text/plain": [
       "<matplotlib.figure.Figure at 0x10aabd198>"
      ]
     },
     "metadata": {},
     "output_type": "display_data"
    },
    {
     "name": "stdout",
     "output_type": "stream",
     "text": [
      "[-sqrt(-sqrt(71) + 9), sqrt(-sqrt(71) + 9), -sqrt(sqrt(71) + 9), sqrt(sqrt(71) + 9)]\n",
      "127.661060789073\n",
      "-127.661060789073\n",
      "-703.493179468151\n",
      "703.493179468151\n",
      "----------------------------------------------------------------\n",
      "375.000000000000\n",
      "-375.000000000000\n",
      "25.0846626340294\n",
      "705.959460380365\n",
      "-25.0846626340294\n",
      "-705.959460380365\n"
     ]
    }
   ],
   "source": [
    "from sympy.plotting import plot\n",
    "from sympy import Symbol, Derivative\n",
    "\n",
    "x = Symbol(\"x\")\n",
    "f = x ** 5 - 30 * x **3 + 50 * x\n",
    "plot(f, (x, -5, 5))\n",
    "\n",
    "d1 = Derivative(f, x).doit()\n",
    "p = solve(d1)\n",
    "print(p)\n",
    "\n",
    "d2 = Derivative(f, x, 2).doit()\n",
    "print(d2.subs({x: p[0]}).evalf())\n",
    "print(d2.subs({x: p[1]}).evalf())\n",
    "print(d2.subs({x: p[2]}).evalf())\n",
    "print(d2.subs({x: p[3]}).evalf())\n",
    "\n",
    "# マイナスのものは加速度がマイナスなので、極大点\n",
    "# 逆にプラスのものは極小点\n",
    "\n",
    "print(\"----------------------------------------------------------------\")\n",
    "x_min = -5\n",
    "x_max = 5\n",
    "\n",
    "# 末端\n",
    "print(f.subs({x:x_min}).evalf())\n",
    "print(f.subs({x:x_max}).evalf())\n",
    "\n",
    "# 最大値候補\n",
    "print(f.subs({x:p[1]}).evalf())\n",
    "print(f.subs({x:p[2]}).evalf()) # => 最大\n",
    "\n",
    "# 最小値候補\n",
    "print(f.subs({x:p[0]}).evalf())\n",
    "print(f.subs({x:p[3]}).evalf()) # => 最小\n"
   ]
  },
  {
   "cell_type": "markdown",
   "metadata": {},
   "source": [
    "勾配上昇法めんどくさそうなのでパス"
   ]
  },
  {
   "cell_type": "code",
   "execution_count": 49,
   "metadata": {
    "collapsed": false
   },
   "outputs": [
    {
     "data": {
      "image/png": "[encoded data removed]",
      "text/latex": [
       "$$\\frac{k x^{2}}{2}$$"
      ],
      "text/plain": [
       "   2\n",
       "k⋅x \n",
       "────\n",
       " 2  "
      ]
     },
     "execution_count": 49,
     "metadata": {},
     "output_type": "execute_result"
    }
   ],
   "source": [
    "# 積分\n",
    "\n",
    "from sympy import Integral, Symbol\n",
    "\n",
    "x = Symbol(\"x\")\n",
    "k = Symbol(\"k\")\n",
    "Integral(k * x, x).doit()"
   ]
  },
  {
   "cell_type": "code",
   "execution_count": 50,
   "metadata": {
    "collapsed": false
   },
   "outputs": [
    {
     "data": {
      "image/png": "[encoded data removed]",
      "text/latex": [
       "$$2 k$$"
      ],
      "text/plain": [
       "2⋅k"
      ]
     },
     "execution_count": 50,
     "metadata": {},
     "output_type": "execute_result"
    }
   ],
   "source": [
    "from sympy import Integral, Symbol\n",
    "\n",
    "x = Symbol(\"x\")\n",
    "k = Symbol(\"k\")\n",
    "Integral(k * x, (x, 0, 2)).doit()"
   ]
  },
  {
   "cell_type": "code",
   "execution_count": 51,
   "metadata": {
    "collapsed": false
   },
   "outputs": [
    {
     "data": {
      "image/png": "[encoded data removed]",
      "text/plain": [
       "<matplotlib.figure.Figure at 0x10a5285c0>"
      ]
     },
     "metadata": {},
     "output_type": "display_data"
    },
    {
     "data": {
      "image/png": "[encoded data removed]",
      "text/latex": [
       "$$6$$"
      ],
      "text/plain": [
       "6"
      ]
     },
     "execution_count": 51,
     "metadata": {},
     "output_type": "execute_result"
    }
   ],
   "source": [
    "from sympy import Integral, Symbol\n",
    "from sympy.plotting import plot\n",
    "\n",
    "x = Symbol(\"x\")\n",
    "f = x\n",
    "plot(f, (x, 0, 10))\n",
    "Integral(f, (x, 2, 4)).doit()"
   ]
  },
  {
   "cell_type": "code",
   "execution_count": 53,
   "metadata": {
    "collapsed": false
   },
   "outputs": [
    {
     "data": {
      "image/png": "[encoded data removed]",
      "text/plain": [
       "<matplotlib.figure.Figure at 0x10a778128>"
      ]
     },
     "metadata": {},
     "output_type": "display_data"
    },
    {
     "data": {
      "image/png": "[encoded data removed]",
      "text/latex": [
       "$$0.135905121983278$$"
      ],
      "text/plain": [
       "0.135905121983278"
      ]
     },
     "execution_count": 53,
     "metadata": {},
     "output_type": "execute_result"
    }
   ],
   "source": [
    "# 生徒の成績を0 ~ 20としている (x)\n",
    "# 生徒が11~12の点数を取る確率\n",
    "# 一様確率と仮定して考える\n",
    "\n",
    "from sympy import Symbol, exp, sqrt, pi, Integral\n",
    "from sympy.plotting import plot\n",
    "\n",
    "x = Symbol(\"x\")\n",
    "p = exp(-(x - 10)**2 / 2)/ sqrt(2*pi)\n",
    "plot(p, (x, 0, 20))\n",
    "Integral(p, (x, 11, 12)).doit().evalf()"
   ]
  },
  {
   "cell_type": "code",
   "execution_count": 54,
   "metadata": {
    "collapsed": false
   },
   "outputs": [
    {
     "data": {
      "image/png": "[encoded data removed]",
      "text/latex": [
       "$$1.0$$"
      ],
      "text/plain": [
       "1.00000000000000"
      ]
     },
     "execution_count": 54,
     "metadata": {},
     "output_type": "execute_result"
    }
   ],
   "source": [
    "from sympy import Symbol, exp, sqrt, pi, Integral, S\n",
    "x = Symbol(\"x\")\n",
    "p = exp(-(x - 10)**2 / 2)/ sqrt(2*pi)\n",
    "Integral(p, (x, S.NegativeInfinity, S.Infinity)).doit().evalf()"
   ]
  },
  {
   "cell_type": "markdown",
   "metadata": {},
   "source": [
    "# プログラミングチャレンジ"
   ]
  },
  {
   "cell_type": "code",
   "execution_count": 91,
   "metadata": {
    "collapsed": false
   },
   "outputs": [
    {
     "data": {
      "image/png": "[encoded data removed]",
      "text/latex": [
       "$$\\tilde{\\infty}$$"
      ],
      "text/plain": [
       "zoo"
      ]
     },
     "execution_count": 91,
     "metadata": {},
     "output_type": "execute_result"
    }
   ],
   "source": [
    "# 関数の連続性\n",
    "\n",
    "from sympy import Symbol, Limit\n",
    "\n",
    "x = Symbol(\"x\")\n",
    "dx = Symbol(\"dx\", positive=True)\n",
    "f = 1 /x\n",
    "positive_limit = Limit((f.subs({x: dx}) - f.subs({x: 0}))/dx, dx, 0).doit()\n",
    "negative_limit = Limit((f.subs({x : 0}) - f.subs({x: -dx})) / dx, dx, 0).doit()\n",
    "\n",
    "positive_limit\n",
    "negative_limit\n",
    "\n",
    "# あってるのかわからんくなってきた"
   ]
  },
  {
   "cell_type": "code",
   "execution_count": 99,
   "metadata": {
    "collapsed": false
   },
   "outputs": [
    {
     "data": {
      "image/png": "[encoded data removed]",
      "text/plain": [
       "<matplotlib.figure.Figure at 0x10ab99400>"
      ]
     },
     "metadata": {},
     "output_type": "display_data"
    },
    {
     "data": {
      "image/png": "[encoded data removed]",
      "text/latex": [
       "$$\\frac{1}{6}$$"
      ],
      "text/plain": [
       "1/6"
      ]
     },
     "execution_count": 99,
     "metadata": {},
     "output_type": "execute_result"
    }
   ],
   "source": [
    "# 2曲線で囲まれた領域の面積\n",
    "from sympy import Symbol, Integral\n",
    "from sympy.plotting import plot\n",
    "\n",
    "x = Symbol(\"x\")\n",
    "f = x\n",
    "g = x ** 2\n",
    "plot(f,g, (x, 0, 1))\n",
    "\n",
    "Integral((f - g), (x, 0, 1)).doit()"
   ]
  },
  {
   "cell_type": "code",
   "execution_count": 103,
   "metadata": {
    "collapsed": false
   },
   "outputs": [
    {
     "data": {
      "image/png": "[encoded data removed]",
      "text/latex": [
       "$$268.372650946022$$"
      ],
      "text/plain": [
       "268.372650946022"
      ]
     },
     "execution_count": 103,
     "metadata": {},
     "output_type": "execute_result"
    }
   ],
   "source": [
    "from sympy import Symbol, Integral, Derivative, sqrt\n",
    "from sympy.plotting import plot\n",
    "\n",
    "y = 2 * x **2 + 3 * x + 1\n",
    "dydx = Derivative(y, x).doit()\n",
    "l = sqrt(1 + dydx**2)\n",
    "L = Integral(l, (x, -5, 10))\n",
    "L.doit().evalf()"
   ]
  },
  {
   "cell_type": "code",
   "execution_count": null,
   "metadata": {
    "collapsed": true
   },
   "outputs": [],
   "source": []
  }
 ],
 "metadata": {
  "kernelspec": {
   "display_name": "Python 3",
   "language": "python",
   "name": "python3"
  },
  "language_info": {
   "codemirror_mode": {
    "name": "ipython",
    "version": 3
   },
   "file_extension": ".py",
   "mimetype": "text/x-python",
   "name": "python",
   "nbconvert_exporter": "python",
   "pygments_lexer": "ipython3",
   "version": "3.5.1"
  }
 },
 "nbformat": 4,
 "nbformat_minor": 0
}
